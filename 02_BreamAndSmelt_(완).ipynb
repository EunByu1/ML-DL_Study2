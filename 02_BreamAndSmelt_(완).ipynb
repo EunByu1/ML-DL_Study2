{
  "cells": [
    {
      "cell_type": "markdown",
      "metadata": {
        "id": "ZVCEfLZvlSsI"
      },
      "source": [
        "---\n",
        "### 【 1. 도미 데이터 】    \n",
        "---"
      ]
    },
    {
      "cell_type": "code",
      "execution_count": 4,
      "metadata": {
        "id": "_H5-9-oYa2se"
      },
      "outputs": [],
      "source": [
        "# 도미의 길이와 무게 \n",
        "bream_length = [25.4, 26.3, 26.5, 29.0, 29.0, 29.7, 29.7, 30.0, 30.0, 30.7, 31.0, 31.0, \n",
        "                31.5, 32.0, 32.0, 32.0, 33.0, 33.0, 33.5, 33.5, 34.0, 34.0, 34.5, 35.0, \n",
        "                35.0, 35.0, 35.0, 36.0, 36.0, 37.0, 38.5, 38.5, 39.5, 41.0, 41.0]\n",
        "bream_weight = [242.0, 290.0, 340.0, 363.0, 430.0, 450.0, 500.0, 390.0, 450.0, 500.0, 475.0, 500.0, \n",
        "                500.0, 340.0, 600.0, 600.0, 700.0, 700.0, 610.0, 650.0, 575.0, 685.0, 620.0, 680.0, \n",
        "                700.0, 725.0, 720.0, 714.0, 850.0, 1000.0, 920.0, 955.0, 925.0, 975.0, 950.0]"
      ]
    },
    {
      "cell_type": "code",
      "execution_count": 5,
      "metadata": {
        "colab": {
          "base_uri": "https://localhost:8080/",
          "height": 279
        },
        "id": "LUnsQP5se_SY",
        "outputId": "209c7f9d-4e8e-4965-95e8-644392725eeb"
      },
      "outputs": [
        {
          "data": {
            "image/png": "[encoded data removed]",
            "text/plain": [
              "<Figure size 432x288 with 1 Axes>"
            ]
          },
          "metadata": {
            "needs_background": "light"
          },
          "output_type": "display_data"
        }
      ],
      "source": [
        "# 도미 데이터의 특징을 이용해서 산점도로 표현 \n",
        "import matplotlib.pyplot as plt               # matplotlib의 pyplot 함수를 plt로 줄여서 사용\n",
        "plt.scatter(bream_length, bream_weight)       # (x,y) = (bream_length, bream_weight)\n",
        "plt.xlabel('length')    # x축의 이름을 화면에 표시\n",
        "plt.ylabel('weight')    # y축의 이름을 화면에 표시 \n",
        "plt.show()              # 준비된 그래프를 화면에 출력\n",
        "\n",
        "# → 2개의 특성(=데이터의 특징)을 사용해 그린 그래프이기 때문에 '2차원 그래프'라고 말함"
      ]
    },
    {
      "cell_type": "markdown",
      "metadata": {
        "id": "l5_Yhn19leZ8"
      },
      "source": [
        "---\n",
        "### 【 2. 빙어 데이터 】  \n",
        "---"
      ]
    },
    {
      "cell_type": "code",
      "execution_count": 6,
      "metadata": {
        "id": "MKfp5LAMlIEo"
      },
      "outputs": [],
      "source": [
        "# 빙어의 길이와 무게 \n",
        "smelt_length = [9.8, 10.5, 10.6, 11.0, 11.2, 11.3, 11.8, 11.8, 12.0, 12.2, 12.4, 13.0, 14.3, 15.0]\n",
        "smelt_weight = [6.7, 7.5, 7.0, 9.7, 9.8, 8.7, 10.0, 9.9, 9.8, 12.2, 13.4, 12.2, 19.7, 19.9]"
      ]
    },
    {
      "cell_type": "code",
      "execution_count": 7,
      "metadata": {
        "colab": {
          "base_uri": "https://localhost:8080/",
          "height": 279
        },
        "id": "mnALpeOil_D0",
        "outputId": "800f3b36-e527-49e7-8d2e-81fa8a071944"
      },
      "outputs": [
        {
          "data": {
            "image/png": "[encoded data removed]",
            "text/plain": [
              "<Figure size 432x288 with 1 Axes>"
            ]
          },
          "metadata": {
            "needs_background": "light"
          },
          "output_type": "display_data"
        }
      ],
      "source": [
        "# import matplotlib.pyplot as plt           # 한 번 import된 패키지는 그 파일 안에서 다시 import하지 않아도 됨\n",
        "plt.scatter(smelt_length, smelt_weight)     # (x,y) = (smelt_length, smelt_weight)\n",
        "plt.xlabel('length')    # x축의 이름을 화면에 표시  \n",
        "plt.ylabel('weight')    # y축의 이름을 화면에 표시\n",
        "plt.show()              # 준비된 그래프를 화면에 출력"
      ]
    },
    {
      "cell_type": "markdown",
      "metadata": {
        "id": "mKvTuo_nnIPT"
      },
      "source": [
        "---\n",
        "### 【 3. 도미 & 빙어 데이터를 산점도에 함께 표현 】  \n",
        "--- "
      ]
    },
    {
      "cell_type": "code",
      "execution_count": 8,
      "metadata": {
        "colab": {
          "base_uri": "https://localhost:8080/",
          "height": 279
        },
        "id": "s2DDL0ypnacJ",
        "outputId": "8fd1868b-4fcd-402a-ff61-05c8c8b065c5"
      },
      "outputs": [
        {
          "data": {
            "image/png": "[encoded data removed]",
            "text/plain": [
              "<Figure size 432x288 with 1 Axes>"
            ]
          },
          "metadata": {
            "needs_background": "light"
          },
          "output_type": "display_data"
        }
      ],
      "source": [
        "plt.scatter(bream_length, bream_weight)       # (x,y) = (bream_length, bream_weight)\n",
        "plt.scatter(smelt_length, smelt_weight)       # (x,y) = (smelt_length, smelt_weight)\n",
        "plt.xlabel('length')    # x축의 이름을 화면에 표시\n",
        "plt.ylabel('weight')    # y축의 이름을 화면에 표시\n",
        "plt.show()              # 준비된 그래프를 화면에 출력"
      ]
    },
    {
      "cell_type": "markdown",
      "metadata": {
        "id": "uXNq6H2lsU9g"
      },
      "source": [
        "* 파란색 점 : 도미의 산점도\n",
        "* 주황색 점 : 빙어의 산점도"
      ]
    },
    {
      "cell_type": "markdown",
      "metadata": {
        "id": "DU0J6qrfuZR2"
      },
      "source": [
        "---\n",
        "### 【 4. k-최근접 이웃(k-Nearest Neighbors) 알고리즘 】  \n",
        "___"
      ]
    },
    {
      "cell_type": "markdown",
      "metadata": {
        "id": "ZQeXAs9eu2L4"
      },
      "source": [
        "#### 1. 도미 & 빙어 데이터 합치기 "
      ]
    },
    {
      "cell_type": "code",
      "execution_count": 9,
      "metadata": {
        "id": "yA6ZIa4kvHac"
      },
      "outputs": [],
      "source": [
        "length  = bream_length + smelt_length\n",
        "weight = bream_weight + smelt_weight"
      ]
    },
    {
      "cell_type": "markdown",
      "metadata": {
        "id": "Rx5u9aG5yWnl"
      },
      "source": [
        "\n",
        "#### 2. 2차원 리스트 만들기"
      ]
    },
    {
      "cell_type": "code",
      "execution_count": 10,
      "metadata": {
        "colab": {
          "base_uri": "https://localhost:8080/"
        },
        "id": "7Vr3977uyrdm",
        "outputId": "0dbdce97-a590-442f-f69a-5cff0cb568f7"
      },
      "outputs": [
        {
          "name": "stdout",
          "output_type": "stream",
          "text": [
            "[[25.4, 242.0], [26.3, 290.0], [26.5, 340.0], [29.0, 363.0], [29.0, 430.0], [29.7, 450.0], [29.7, 500.0], [30.0, 390.0], [30.0, 450.0], [30.7, 500.0], [31.0, 475.0], [31.0, 500.0], [31.5, 500.0], [32.0, 340.0], [32.0, 600.0], [32.0, 600.0], [33.0, 700.0], [33.0, 700.0], [33.5, 610.0], [33.5, 650.0], [34.0, 575.0], [34.0, 685.0], [34.5, 620.0], [35.0, 680.0], [35.0, 700.0], [35.0, 725.0], [35.0, 720.0], [36.0, 714.0], [36.0, 850.0], [37.0, 1000.0], [38.5, 920.0], [38.5, 955.0], [39.5, 925.0], [41.0, 975.0], [41.0, 950.0], [9.8, 6.7], [10.5, 7.5], [10.6, 7.0], [11.0, 9.7], [11.2, 9.8], [11.3, 8.7], [11.8, 10.0], [11.8, 9.9], [12.0, 9.8], [12.2, 12.2], [12.4, 13.4], [13.0, 12.2], [14.3, 19.7], [15.0, 19.9]]\n"
          ]
        }
      ],
      "source": [
        "fish_data = [[l, w] for l, w in zip(length, weight)]\n",
        "print(fish_data)    # 생성된 2차원 리스트 확인하기"
      ]
    },
    {
      "cell_type": "markdown",
      "metadata": {
        "id": "JdZyMT9G4MI7"
      },
      "source": [
        "#### 3. 정답 데이터 만들기"
      ]
    },
    {
      "cell_type": "code",
      "execution_count": 21,
      "metadata": {
        "colab": {
          "base_uri": "https://localhost:8080/"
        },
        "id": "hcaq7HIB4Yj0",
        "outputId": "a5df360e-9dae-42dc-edcb-79dc10b03776"
      },
      "outputs": [
        {
          "name": "stdout",
          "output_type": "stream",
          "text": [
            "[1, 1, 1, 1, 1, 1, 1, 1, 1, 1, 1, 1, 1, 1, 1, 1, 1, 1, 1, 1, 1, 1, 1, 1, 1, 1, 1, 1, 1, 1, 1, 1, 1, 1, 1, 0, 0, 0, 0, 0, 0, 0, 0, 0, 0, 0, 0, 0, 0]\n"
          ]
        }
      ],
      "source": [
        "fish_target = [1] * 35 + [0] * 14 \n",
        "print(fish_target)  # 생성된 정답 데이터 확인하기\n",
        "\n",
        "# 도미 = 1\n",
        "# 빙어 = 0"
      ]
    },
    {
      "cell_type": "markdown",
      "metadata": {
        "id": "Ss4j-wB95ylm"
      },
      "source": [
        "#### 4. k-최근접 이웃 알고리즘을 구현한 KNeighborsClassifier를 import하기 "
      ]
    },
    {
      "cell_type": "code",
      "execution_count": 12,
      "metadata": {
        "id": "PZlyFpk06EqC"
      },
      "outputs": [],
      "source": [
        "from sklearn.neighbors import KNeighborsClassifier # from 모듈이름 import 함수이름 (모듈 == 클래스)"
      ]
    },
    {
      "cell_type": "markdown",
      "metadata": {
        "id": "r_eDeXg8NEG0"
      },
      "source": [
        "#### 5. KNeighborsClassifier 클래스의 객체 생성하기"
      ]
    },
    {
      "cell_type": "code",
      "execution_count": 13,
      "metadata": {
        "id": "PbriUGx1Nj3K"
      },
      "outputs": [],
      "source": [
        "kn = KNeighborsClassifier()"
      ]
    },
    {
      "cell_type": "markdown",
      "metadata": {
        "id": "3sy6IPU-NqPW"
      },
      "source": [
        "#### 6. 객체(또는 모델) kn 훈련하기"
      ]
    },
    {
      "cell_type": "code",
      "execution_count": 15,
      "metadata": {
        "colab": {
          "base_uri": "https://localhost:8080/"
        },
        "id": "RSY678ETN7YX",
        "outputId": "12f0b9a6-6a00-4d47-8478-7863999f5cc6"
      },
      "outputs": [
        {
          "data": {
            "text/plain": [
              "KNeighborsClassifier()"
            ]
          },
          "execution_count": 15,
          "metadata": {},
          "output_type": "execute_result"
        }
      ],
      "source": [
        "kn.fit(fish_data, fish_target)  # fish_data와 fish_target 데이터를 객체(또는 모델)에 전달하고, 이를 fit()메서드를 통해 학습시킴"
      ]
    },
    {
      "cell_type": "markdown",
      "metadata": {
        "id": "VUZ2GnIsOsJN"
      },
      "source": [
        "#### 7. 객체(또는 모델) kn 평가하기 "
      ]
    },
    {
      "cell_type": "code",
      "execution_count": 18,
      "metadata": {
        "colab": {
          "base_uri": "https://localhost:8080/"
        },
        "id": "4BIknW7hOyPF",
        "outputId": "b6c37ab1-268c-47ad-d70a-ef699c7816c6"
      },
      "outputs": [
        {
          "data": {
            "text/plain": [
              "1.0"
            ]
          },
          "execution_count": 18,
          "metadata": {},
          "output_type": "execute_result"
        }
      ],
      "source": [
        "kn.score(fish_data, fish_target)   # score()메서드를 통해 모델을 평가함"
      ]
    },
    {
      "cell_type": "markdown",
      "metadata": {
        "id": "KQy2Z8XbRuXU"
      },
      "source": [
        "---\n",
        "### 【 5. k-최근접 이웃(k-Nearest Neighbors) 알고리즘을 이용한 예측 】  \n",
        "___"
      ]
    },
    {
      "cell_type": "code",
      "execution_count": 24,
      "metadata": {
        "colab": {
          "base_uri": "https://localhost:8080/",
          "height": 279
        },
        "id": "V5ADoZsBSSyP",
        "outputId": "9556d251-acd5-4d56-ebc8-ef1b1276e547"
      },
      "outputs": [
        {
          "data": {
            "image/png": "[encoded data removed]",
            "text/plain": [
              "<Figure size 432x288 with 1 Axes>"
            ]
          },
          "metadata": {
            "needs_background": "light"
          },
          "output_type": "display_data"
        }
      ],
      "source": [
        "plt.scatter(bream_length, bream_weight)       # (x,y) = (bream_length, bream_weight)\n",
        "plt.scatter(smelt_length, smelt_weight)       # (x,y) = (smelt_length, smelt_weight)\n",
        "plt.scatter(30,600)                           # 새로운 데이터 (x,y) = (30, 600)\n",
        "plt.xlabel('length')    # x축의 이름을 화면에 표시\n",
        "plt.ylabel('weight')    # y축의 이름을 화면에 표시\n",
        "plt.show()              # 준비된 그래프를 화면에 출력"
      ]
    },
    {
      "cell_type": "code",
      "execution_count": 25,
      "metadata": {
        "colab": {
          "base_uri": "https://localhost:8080/"
        },
        "id": "lFGNwUpMR0-X",
        "outputId": "8858765e-3126-4019-ed96-255edc3ab54d"
      },
      "outputs": [
        {
          "data": {
            "text/plain": [
              "array([1])"
            ]
          },
          "execution_count": 25,
          "metadata": {},
          "output_type": "execute_result"
        }
      ],
      "source": [
        "kn.predict([[30, 600]])\n",
        "\n",
        "# 결과 : array([1]), 즉 도미(1)"
      ]
    },
    {
      "cell_type": "code",
      "execution_count": 27,
      "metadata": {
        "colab": {
          "base_uri": "https://localhost:8080/"
        },
        "id": "cTbF48jxVWDi",
        "outputId": "920fee4d-5281-447a-f30d-8d81e78edfb9"
      },
      "outputs": [
        {
          "name": "stdout",
          "output_type": "stream",
          "text": [
            "[[  25.4  242. ]\n",
            " [  26.3  290. ]\n",
            " [  26.5  340. ]\n",
            " [  29.   363. ]\n",
            " [  29.   430. ]\n",
            " [  29.7  450. ]\n",
            " [  29.7  500. ]\n",
            " [  30.   390. ]\n",
            " [  30.   450. ]\n",
            " [  30.7  500. ]\n",
            " [  31.   475. ]\n",
            " [  31.   500. ]\n",
            " [  31.5  500. ]\n",
            " [  32.   340. ]\n",
            " [  32.   600. ]\n",
            " [  32.   600. ]\n",
            " [  33.   700. ]\n",
            " [  33.   700. ]\n",
            " [  33.5  610. ]\n",
            " [  33.5  650. ]\n",
            " [  34.   575. ]\n",
            " [  34.   685. ]\n",
            " [  34.5  620. ]\n",
            " [  35.   680. ]\n",
            " [  35.   700. ]\n",
            " [  35.   725. ]\n",
            " [  35.   720. ]\n",
            " [  36.   714. ]\n",
            " [  36.   850. ]\n",
            " [  37.  1000. ]\n",
            " [  38.5  920. ]\n",
            " [  38.5  955. ]\n",
            " [  39.5  925. ]\n",
            " [  41.   975. ]\n",
            " [  41.   950. ]\n",
            " [   9.8    6.7]\n",
            " [  10.5    7.5]\n",
            " [  10.6    7. ]\n",
            " [  11.     9.7]\n",
            " [  11.2    9.8]\n",
            " [  11.3    8.7]\n",
            " [  11.8   10. ]\n",
            " [  11.8    9.9]\n",
            " [  12.     9.8]\n",
            " [  12.2   12.2]\n",
            " [  12.4   13.4]\n",
            " [  13.    12.2]\n",
            " [  14.3   19.7]\n",
            " [  15.    19.9]]\n"
          ]
        }
      ],
      "source": [
        "print(kn._fit_X)"
      ]
    },
    {
      "cell_type": "code",
      "execution_count": 30,
      "metadata": {
        "colab": {
          "base_uri": "https://localhost:8080/"
        },
        "id": "_AOF3HoCVZTb",
        "outputId": "843427ec-63a4-445d-d996-fe20267c0b72"
      },
      "outputs": [
        {
          "name": "stdout",
          "output_type": "stream",
          "text": [
            "[1 1 1 1 1 1 1 1 1 1 1 1 1 1 1 1 1 1 1 1 1 1 1 1 1 1 1 1 1 1 1 1 1 1 1 0 0\n",
            " 0 0 0 0 0 0 0 0 0 0 0 0]\n"
          ]
        }
      ],
      "source": [
        "print(kn._y)"
      ]
    },
    {
      "cell_type": "markdown",
      "metadata": {
        "id": "N-5UALS9WbZL"
      },
      "source": [
        "---\n",
        "### 【 6. k-최근접 이웃(k-Nearest Neighbors) 알고리즘의 참고 데이터 지정 방법 】  \n",
        "___"
      ]
    },
    {
      "cell_type": "code",
      "execution_count": 31,
      "metadata": {
        "id": "akEoA2IaWf9h"
      },
      "outputs": [],
      "source": [
        "kn49 = KNeighborsClassifier(n_neighbors = 49)   # 참고 데이터를 49개로 한 kn49 모델"
      ]
    },
    {
      "cell_type": "code",
      "execution_count": 33,
      "metadata": {
        "colab": {
          "base_uri": "https://localhost:8080/"
        },
        "id": "cmeTUeTLWy4s",
        "outputId": "d3b4aa3f-fbb4-463b-dd5d-1c3434361791"
      },
      "outputs": [
        {
          "data": {
            "text/plain": [
              "0.7142857142857143"
            ]
          },
          "execution_count": 33,
          "metadata": {},
          "output_type": "execute_result"
        }
      ],
      "source": [
        "kn49.fit(fish_data, fish_target)\n",
        "kn49.score(fish_data, fish_target)"
      ]
    },
    {
      "cell_type": "code",
      "execution_count": 34,
      "metadata": {
        "colab": {
          "base_uri": "https://localhost:8080/"
        },
        "id": "ILqcLY3RXwuo",
        "outputId": "e2a9aff3-c960-4337-c5e1-c325aebcf3e4"
      },
      "outputs": [
        {
          "name": "stdout",
          "output_type": "stream",
          "text": [
            "0.7142857142857143\n"
          ]
        }
      ],
      "source": [
        "print(35/49)"
      ]
    }
  ],
  "metadata": {
    "colab": {
      "authorship_tag": "ABX9TyONc0Q9VLSAnQIR//Y/Wnfr",
      "collapsed_sections": [],
      "name": "02. BreamAndSmelt (완)",
      "provenance": []
    },
    "kernelspec": {
      "display_name": "Python 3",
      "name": "python3"
    },
    "language_info": {
      "name": "python"
    }
  },
  "nbformat": 4,
  "nbformat_minor": 0
}
