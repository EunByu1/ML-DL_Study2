{
 "cells": [
  {
   "cell_type": "markdown",
   "id": "3158be24",
   "metadata": {},
   "source": [
    "---\n",
    "## 1. 지도 학습 & 비지도 학습\n",
    "---\n",
    "머신러닝은 크게 ¹지도학습과 ²비지도학습으로 나눌 수 있음\n",
    "1. 지도 학습 : 입력 & 타깃을 전달하여 모델을 훈련한 후 새로운 데이터를 예측하는데 활용  \n",
    "$ \\quad \\quad \\qquad $ ex) kNN(k-최근접 이웃)\n",
    "2. 비지도 학습 : 타깃 데이터가 없으며, 지도학습과 같이 무엇을 예측하는 것이 아닌 입력 데이터에서 어떤 특징을 찾는 데 주로 활용\n",
    "<br>\n",
    "<br>\n",
    "<br>\n",
    "\n",
    "#### #. 지도 학습 추가 개념\n",
    "* 입력과 타깃 : 지도학습에서 데이터를 입력이라 하고, 정답을 타깃이라 함  \n",
    "* 훈련 데이터 : 입력과 타깃 둘을 합쳐 훈련 데이터라 함 \n",
    "* 특성 : 데이터의 특징  \n",
    "$ \\quad \\quad \\;$ex) 길이, 몸무게 등"
   ]
  },
  {
   "cell_type": "code",
   "execution_count": null,
   "id": "adb50117",
   "metadata": {},
   "outputs": [],
   "source": []
  },
  {
   "cell_type": "markdown",
   "id": "dafe39f0",
   "metadata": {},
   "source": [
    "---\n",
    "## 2. 훈련 세트 & 테스트 세트\n",
    "---\n",
    "머신러닝의 정확한 평가를 위해서는 ¹테스트 세트와 ²훈련 세트가 따로 준비되어 있어야 함 \n",
    "1. 테스트 세트 : 평가에 사용되는 데이터 \n",
    "2. 훈련 세트 $\\;\\,\\;$: 훈련에 사용되는 데이터  "
   ]
  },
  {
   "cell_type": "code",
   "execution_count": null,
   "id": "3ac37cb5",
   "metadata": {},
   "outputs": [],
   "source": []
  },
  {
   "cell_type": "markdown",
   "id": "caae163e",
   "metadata": {},
   "source": [
    "---\n",
    "## 3. 2차원 리스트를 만드는 이유 & 샘플\n",
    "---\n",
    "* 2차원 리스트를 만드는 이유  \n",
    "$\\,$: 사이킷런 패키지를 사용하기 위해서는 각 특성의 리스트를 세로 방향으로 늘어뜨린 2차원 리스트가 필요함\n",
    "* 샘플 : 각각의 데이터 "
   ]
  },
  {
   "cell_type": "code",
   "execution_count": null,
   "id": "0d4fde3d",
   "metadata": {},
   "outputs": [],
   "source": []
  },
  {
   "cell_type": "markdown",
   "id": "28473e33",
   "metadata": {},
   "source": [
    "---\n",
    "## 4. 샘플링 편향 \n",
    "---\n",
    "특정 종류의 샘플이 과도하게 많은 샘플링 편향을 가지고 있으면, 제대로 된 지도학습 모델을 만들 수 없음 \n",
    "* 샘플링 편향 : 샘플링이 한쪽으로 치우쳐진 현상"
   ]
  },
  {
   "cell_type": "code",
   "execution_count": null,
   "id": "b00392e2",
   "metadata": {},
   "outputs": [],
   "source": []
  },
  {
   "cell_type": "markdown",
   "id": "acb5a17f",
   "metadata": {},
   "source": [
    "---\n",
    "## 5. 넘파이\n",
    "---\n",
    "샘플링 편향을 해결하기 위해서는 ¹훈련 세트와 테스트 세트를 나주기 전에 데이터를 섞거나, ²골고루 샘플을 뽑아서 훈련 세트와 테스트 세트를 만들어야 함  \n",
    "이런 작업을 간편하게 처리할 수 있도록 도움을 주는 것이 바로 파이썬 라이브러리인 '넘파이'임\n",
    "* 넘파이 : 파이썬의 대표적인 배열 라이브러리임  \n",
    "$\\quad \\quad \\quad$ → 고차원 배열을 손쉽게 만들고, 조작할 수 있는 간편한 도구를 많이 제공함\n",
    "<br>\n",
    "<br>\n",
    "<br>\n",
    "\n",
    "#### #1. 넘파이 배열\n",
    "배열에서 차원은 좌표계의 축과 같음  \n",
    "$\\,$: 보통의 xy좌표계와는 달리 시작점이 왼쪽 아래가 아닌 왼쪽 위에서부터 시작함  \n",
    "* 1차원 배열 = 선  \n",
    "* 2차원 배열 = 면  \n",
    "* 3차원 배열 = 공간   \n",
    "<br>  \n",
    "<br>\n",
    "<br>\n",
    "\n",
    "#### #2. 넘파이 함수  \n",
    "* array(리스트) : 파이썬 리스트를 넘파이 배열로 변환\n",
    "* 배열.shape$\\,\\;\\,$: 샘플 수와 특성 수를 차례대로 알려줌  \n",
    "* arange(정수 or 실수)$\\;\\;$: 일정한 간격의 정수 또는 실수 배열을 만듦\n",
    "* np.random.seed(정수) : 지정된 정수 값에 맞는 난수를 생성함  \n",
    "* np.random.shuffle(배열) : 주어진 배열을 랜덤하게 섞음  \n",
    "$\\qquad \\qquad \\qquad \\qquad \\; \\; \\,$→ 다차원 배열일 경우 첫 번째 축(행)에 대해서만 섞음  \n",
    "<br>  \n",
    "<br>\n",
    "<br>\n",
    "\n",
    "#### #3. 배열 인덱싱  \n",
    "* 1개의 인덱스가 아닌 여러 개의 인덱스로 한 번에 여러 개의 원소를 선택할 수 있음  \n",
    "[ 배열 인덱싱 예시 ]\n",
    "<pre>print(input_arr[[1,3]])</pre>"
   ]
  },
  {
   "cell_type": "code",
   "execution_count": null,
   "id": "989f09e7",
   "metadata": {},
   "outputs": [],
   "source": []
  },
  {
   "cell_type": "markdown",
   "id": "8ff64de6",
   "metadata": {},
   "source": [
    "---\n",
    "## 6. 산점도\n",
    "---  \n",
    "* 맷플롯립 : 파이썬에서 과학계산용 그래프를 그리는 대표적인 패키지  \n",
    "* 산점도 $\\;\\;\\,$: x,y 축으로 이뤄진 좌표계에 두 변수(x,y)의 관계를 표현한 그래프  \n",
    ": 산점도 그래프가 일직선에 가까운 형태로 나타나는 경우를 '선형(linear)'적이라고 말함  \n",
    "<br>\n",
    "<br>\n",
    "<br>\n",
    "\n",
    "#### #. 심화 \n",
    "<pre> import matplotlib.pyplot as plt  \n",
    " plt. scatter(train_input[:,0], train_input[:,1])  \n",
    " plt. scatter(test_input[:,0], test_input[:,1])  \n",
    " plt.xlabel('length')\n",
    " plt.ylabel('weight')  \n",
    " plt.show()</pre>  \n",
    "① plt. scatter(train_input[:,0], train_input[:,1])\n",
    "1. train_input[:,0] : train_input배열을 다 읽은 후에, 0열에 해당하는 것만 가지고 와서 x축을 구성해라 \n",
    "2. train_input[:,1] : train_input배열을 다 읽은 후에, 1열에 해당하는 것만 가지고 와서 y축을 구성해라\n",
    "3. plt. scatter(train_input[:,0], train_input[:,1]) : ()안에 있는 것을 바탕으로 산점도를 그려라  \n",
    "<br>\n",
    "\n",
    "② plt. scatter(test_input[:,0], test_input[:,1])\n",
    "1. test_input[:,0] : test_input배열을 다 읽은 후에, 0열에 해당하는 것만 가지고 와서 x축을 구성해라 \n",
    "2. test_input[:,1] : test_input배열을 다 읽은 후에, 1열에 해당하는 것만 가지고 와서 y축을 구성해라\n",
    "3. plt. scatter(test_input[:,0], test_input[:,1]) : ()안에 있는 것을 바탕으로 산점도를 그려라  \n",
    "<br>\n",
    "\n",
    "③ plt.xlabel('length')  \n",
    "$\\quad$: x축의 라벨을 'length'로 표시해라  \n",
    "<br>\n",
    "\n",
    "④ plt.ylabel('weight')  \n",
    "$\\quad$: y축의 라벨을 'weight'로 표시해라  \n",
    "<br>\n",
    "\n",
    "⑤ plt.show()  \n",
    "$\\quad$: 완성된 산점도를 출력해라 \n"
   ]
  }
 ],
 "metadata": {
  "kernelspec": {
   "display_name": "Python 3 (ipykernel)",
   "language": "python",
   "name": "python3"
  },
  "language_info": {
   "codemirror_mode": {
    "name": "ipython",
    "version": 3
   },
   "file_extension": ".py",
   "mimetype": "text/x-python",
   "name": "python",
   "nbconvert_exporter": "python",
   "pygments_lexer": "ipython3",
   "version": "3.8.12"
  }
 },
 "nbformat": 4,
 "nbformat_minor": 5
}
