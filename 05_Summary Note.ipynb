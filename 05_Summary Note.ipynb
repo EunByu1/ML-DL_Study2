{
 "cells": [
  {
   "cell_type": "markdown",
   "id": "d1dedc16",
   "metadata": {},
   "source": [
    "---\n",
    "## 1. 리스트 vs 넘파이 \n",
    "---  \n",
    "* 데이터가 클수록 파이썬 리스트는 비효율적이므로 넘파이 배열을 사용하는 것이 좋음 "
   ]
  },
  {
   "cell_type": "markdown",
   "id": "b078095a",
   "metadata": {},
   "source": [
    "---\n",
    "## 2. 넘파이 함수\n",
    "---  \n",
    " [ 01. column_stack() ] # 연결  \n",
    "$\\,$① 사용법 : np.cloumn_stack(튜플 형태의 리스트 or 배열)  \n",
    "$\\qquad\\qquad$ → ex) np.column_stack(([1, 2, 3], [4, 5, 6]))  \n",
    "$\\,$② 원리 : 전달받은 리스트를 일렬로 세운 후 차례대로 나란히 연결함 (즉, 주어진 서로 다른 배열을 합쳐줌)  \n",
    "$\\qquad\\qquad$ → Tip : (1차원 배열, 1차원 배열)을 np.colum_stack()에 전달하게되면, 2차원 배열이 생성됨  \n",
    "$\\,$③ 결과 : 리스트처럼 한 줄로 길게 출력되지 않고, 행과 열에 맞추어 가지런히 정리된 모습으로 출력됨  \n",
    "$\\qquad\\qquad$ → ex) [[1, 4],  \n",
    "$\\qquad\\qquad\\qquad\\,\\,\\,\\,$[2, 5],  \n",
    "$\\qquad\\qquad\\qquad\\,\\,\\,\\,$[3, 6]]  \n",
    "<br>  \n",
    "<br>\n",
    "\n",
    "[ 02. np.ones() & np.zeros() ] # 0 & 1 생성  \n",
    "$\\,$① 사용법 : np.ones(정수) & np.zeros(정수)  \n",
    "$\\qquad\\qquad$ → ex) np.ones(5)  \n",
    "$\\qquad\\qquad$ → ex) np.zeros(3)  \n",
    "$\\,$② 결과 : 정수만큼 1을 채운 배열 생성함(np.ones(정수)) & 정수만큼 0을 채운 배열 생성함(np.zeros(정수))  \n",
    "$\\qquad\\qquad$ → ex) [1, 1, 1, 1, 1]  \n",
    "$\\qquad\\qquad$ → ex) [0, 0, 0]  \n",
    "$\\,$♥ Way(형태) : np.ones(5) == [1] * 5 / np.zeros(3) == [0] * 3 \n",
    "<br>  \n",
    "<br>\n",
    "<br>\n",
    "  \n",
    "[ 03. np.concatenate() ] # 연결  \n",
    "$\\,$① 사용법 : np.concatenate(튜플 형태의 리스트 or 배열)  \n",
    "$\\qquad\\qquad$ → ex) np.concatenate((np.ones(35), np.zeros(14)))    \n",
    "$\\,$② 원리 : 1번째 차원을 따라 배열을 연결함  \n",
    "$\\,$③ 결과 ex) [1. 1. 1. 1. 1. 1. 1. 1. 1. 1. 1. 1. 1. 1. 1. 1. 1. 1. 1. 1. 1. 1. 1. 1. 1. 1. 1. 1. 1. 1. 1. 1. 1. 1. 1. 0. 0. 0. 0. 0. 0. 0. 0. 0. 0. 0. 0. 0. 0.]  \n",
    "$\\,$♥ Way(형태) : np.concatenate((np.ones(35),np.zeros(14))) == [1] * 35 + [0] * 14  \n",
    "<br>  \n",
    "<br>\n",
    "  \n",
    "[ 04. np.mean() ] # 평균  \n",
    "$\\,$① 사용범 : np.mean(배열, axis = 0 or axis = 1)  \n",
    "$\\qquad\\qquad$ → ex) np.mean(train_input, axis = 0)  # 'axis = 0'은 열을 따라 계산함(1열2열....n열)  \n",
    "$\\qquad\\qquad$ → ex) np.mean(train_input, axis = 1)  # 'axis = 1'은 행을 따라 계산함(1행2행....n행) \n",
    "<br>  \n",
    "<br>\n",
    "<br>\n",
    "  \n",
    "[ 05. np.std() ] # 표준편차  \n",
    "$\\,$① 사용범 : np.std(배열, axis = 0 or axis = 1)  \n",
    "$\\qquad\\qquad$ → ex) np.std(train_input, axis = 0)   # 'axis = 0'은 열을 따라 계산함(1열2열....n열)  \n",
    "$\\qquad\\qquad$ → ex) np.std(train_input, axis = 1)   # 'axis = 1'은 행을 따라 계산함(1행2행....n행) "
   ]
  },
  {
   "cell_type": "markdown",
   "id": "444c69b3",
   "metadata": {},
   "source": [
    "---\n",
    "## 3. 사이킷런 함수 및 메서드\n",
    "---  \n",
    "[ 01. train_test_split()함수 ] # 훈련 세트 & 테스트 세트 생성  \n",
    "$\\,$① 사용법 : train_test_split(리스트 or 배열, test_size, train_size, random_state, shuffle, stratify)  \n",
    "$\\qquad\\qquad$ → ex) train_input, test_input, train_target, test_target = train_test_split(fish_data, fish_target, test_size = 0.2, random_state = 42)  \n",
    "$\\,$② 원리 : 전달되는 리스트 or 배열을 비율에 맞게 훈련 세트 & 테스트 세트로 나눔  \n",
    "$\\qquad\\quad\\,$ ▶ 나누기 전에 알아서 섞어 줌  \n",
    "$\\,$③ 매개변수  \n",
    "$\\quad\\;$- test_size$\\;$ : 테스트 데이터셋의 비율(float)이나 갯수(int)를 지정할 수 있음(default = 0.25(25%))  \n",
    "$\\quad\\;$- train_size : 학습 데이터셋의 비율(float)이나 갯수(int)를 지정할 수 있음(default = test_size의 나머지)  \n",
    "$\\quad\\;$- random_state : 자체적으로 랜덤 시드를 지정할 수 있음  \n",
    "$\\quad\\;$- shuffle$\\;$: 셔플 여부를 설정할 수 있음(default = True)  \n",
    "$\\quad\\;$- stratify : 클래스(=종류) 비율에 맞게 데이터를 설정할 수 있음(stratify=target값)  \n",
    "$\\,$[문제 발생] 무작위로 데이터를 나누면, 샘플이 골고루 섞이지 않아 샘플링 편향이 나타날 수 있음  \n",
    "$\\,$[해결 방법] 이를 간단히 해결할 수 있는 방법이 바로 stratify 매개변수를 사용하는거임  \n",
    "$\\,$[정리] stratify 매개변수를 사용하면, 한 쪽으로 쏠려서 분배되는 것을 방지할 수 있음  \n",
    "<br>  \n",
    "<br>\n",
    "\n",
    "[ 02. kneighbors()메서드 ] # 이웃과의 거리, 이웃의 인덱스 반환  \n",
    "$\\,$① 사용법 : 객체명(=모델명).kneighbors(배열)  \n",
    "$\\qquad\\qquad$ → ex) kn.kneighbors([[25, 150]])  \n",
    "$\\,$② 원리 : 해당 배열과 이웃까지의 거리 & 이웃 샘플의 인덱스를 반환함  \n",
    "$\\,$Tip : KNeighborsClassifier 클래스의 이웃 개수에 해당하는 n_neighbors의 default 값이 5이기 때문에, 5개의 이웃이 반환됨  \n"
   ]
  },
  {
   "cell_type": "markdown",
   "id": "60bf192f",
   "metadata": {},
   "source": [
    "---\n",
    "## 4. 맷플롯립 함수\n",
    "---  \n",
    "[ 01. xlim() & ylim() ] # x & y 범위 지정  \n",
    "$\\,$① 사용법 : xlim((정수, 정수)) & ylim((정수, 정수))  \n",
    "$\\qquad\\qquad$ → ex) xlim((0, 1000))  # 0 ~ 1000의 값으로 범위 지정  \n",
    "<br>  \n",
    "<br>  \n",
    "\n",
    "[ 02. marker ] # 산점도 표현방법  \n",
    "$\\,$[종류]  \n",
    "$\\;$ ① marker = '^' # 산점도를 삼각형 모양으로 그림  \n",
    "$\\;$ ② marker = 'D' # 산점도를 마름모 모양으로 그림  "
   ]
  },
  {
   "cell_type": "markdown",
   "id": "dd0062c6",
   "metadata": {},
   "source": [
    "---\n",
    "## 5. 데이터 전처리\n",
    "---  \n",
    "[ 01. 스케일 ]  \n",
    "$\\,$* 두 특성간의 값의 범위가 다르면, 두 특성의 '스케일'이 다르다고 말함  \n",
    "<br>  \n",
    "<br>  \n",
    "\n",
    "[ 02. 데이터 전처리 ]  \n",
    "$\\,$* 데이터 전처리 : 특성값의 일정한 기준을 맞춰주기 위한 작업  \n",
    "$\\;\\;\\;$[표준 점수] : 가장 널리 사용하는 전처리 방법 中 하나로, 각 특성값이 평균에서부터 표준편차의 몇 배만큼 떨어져 있는지를 나타냄  \n",
    " $\\qquad\\qquad\\quad\\,$ → 실제 특성값의 크기와 상관없이 동일한 조건으로 비교할 수 있음  "
   ]
  }
 ],
 "metadata": {
  "kernelspec": {
   "display_name": "Python 3 (ipykernel)",
   "language": "python",
   "name": "python3"
  },
  "language_info": {
   "codemirror_mode": {
    "name": "ipython",
    "version": 3
   },
   "file_extension": ".py",
   "mimetype": "text/x-python",
   "name": "python",
   "nbconvert_exporter": "python",
   "pygments_lexer": "ipython3",
   "version": "3.7.11"
  }
 },
 "nbformat": 4,
 "nbformat_minor": 5
}
