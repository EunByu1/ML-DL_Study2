{
  "cells": [
    {
      "cell_type": "markdown",
      "metadata": {
        "id": "EQsa36NXXT1W"
      },
      "source": [
        "---\n",
        "### 【 1. 데이터 준비 】  \n",
        "---"
      ]
    },
    {
      "cell_type": "code",
      "execution_count": 1,
      "metadata": {
        "id": "xFPH6qyUXTPe"
      },
      "outputs": [],
      "source": [
        "import numpy as np"
      ]
    },
    {
      "cell_type": "code",
      "execution_count": 2,
      "metadata": {
        "id": "MCHNb8aPYkBM"
      },
      "outputs": [],
      "source": [
        "perch_length = np.array([8.4, 13.7, 15.0, 16.2, 17.4, 18.0, 18.7, 19.0, 19.6, 20.0, 21.0,\n",
        "       21.0, 21.0, 21.3, 22.0, 22.0, 22.0, 22.0, 22.0, 22.5, 22.5, 22.7,\n",
        "       23.0, 23.5, 24.0, 24.0, 24.6, 25.0, 25.6, 26.5, 27.3, 27.5, 27.5,\n",
        "       27.5, 28.0, 28.7, 30.0, 32.8, 34.5, 35.0, 36.5, 36.0, 37.0, 37.0,\n",
        "       39.0, 39.0, 39.0, 40.0, 40.0, 40.0, 40.0, 42.0, 43.0, 43.0, 43.5,\n",
        "       44.0])\n",
        "perch_weight = np.array([5.9, 32.0, 40.0, 51.5, 70.0, 100.0, 78.0, 80.0, 85.0, 85.0, 110.0,\n",
        "       115.0, 125.0, 130.0, 120.0, 120.0, 130.0, 135.0, 110.0, 130.0,\n",
        "       150.0, 145.0, 150.0, 170.0, 225.0, 145.0, 188.0, 180.0, 197.0,\n",
        "       218.0, 300.0, 260.0, 265.0, 250.0, 250.0, 300.0, 320.0, 514.0,\n",
        "       556.0, 840.0, 685.0, 700.0, 700.0, 690.0, 900.0, 650.0, 820.0,\n",
        "       850.0, 900.0, 1015.0, 820.0, 1100.0, 1000.0, 1100.0, 1000.0,\n",
        "       1000.0])"
      ]
    },
    {
      "cell_type": "markdown",
      "metadata": {
        "id": "3QSXE_uwZA0q"
      },
      "source": [
        "---\n",
        "### 【 2. 산점도 표현 】  \n",
        "---"
      ]
    },
    {
      "cell_type": "code",
      "execution_count": 4,
      "metadata": {
        "colab": {
          "base_uri": "https://localhost:8080/",
          "height": 279
        },
        "id": "yXwQkmAAYvfJ",
        "outputId": "8f1c59f7-f576-460c-c33a-a665da7b134d"
      },
      "outputs": [
        {
          "data": {
            "image/png": "[encoded data removed]",
            "text/plain": [
              "<Figure size 432x288 with 1 Axes>"
            ]
          },
          "metadata": {
            "needs_background": "light"
          },
          "output_type": "display_data"
        }
      ],
      "source": [
        "import matplotlib.pyplot as plt\n",
        "plt.scatter(perch_length, perch_weight)\n",
        "plt.xlabel('length')\n",
        "plt.ylabel('weight')\n",
        "plt.show()"
      ]
    },
    {
      "cell_type": "markdown",
      "metadata": {
        "id": "Tx-B2i-zZix2"
      },
      "source": [
        "---\n",
        "### 【 3. 훈련 세트 & 테스트 세트로 나누기 】  \n",
        "---"
      ]
    },
    {
      "cell_type": "code",
      "execution_count": 6,
      "metadata": {
        "id": "bACFhsulZSe8"
      },
      "outputs": [],
      "source": [
        "from sklearn.model_selection import train_test_split\n",
        "train_input, test_input, train_target, test_target = train_test_split(perch_length, perch_weight, random_state = 42)"
      ]
    },
    {
      "cell_type": "markdown",
      "metadata": {
        "id": "B702pMXmbiTX"
      },
      "source": [
        "---  \n",
        "[ reshape() ]  \n",
        "<pre> >>> test_array = np.array([1, 2, 3, 4]) </pre>  \n",
        "<pre> >>> print(test_array.shape)</pre>  \n",
        "<pre> (4, ) </pre>  \n",
        "<br>\n",
        "  \n",
        "\n",
        "<pre> >>> test_array = test_array.reshape(2, 2) </pre>  \n",
        "<pre> >>> print(test_array.shape)  </pre>  \n",
        "<pre> (2, 2)  </pre>  \n",
        "\n",
        "---"
      ]
    },
    {
      "cell_type": "code",
      "execution_count": 9,
      "metadata": {
        "colab": {
          "base_uri": "https://localhost:8080/"
        },
        "id": "loobDfvZZ8-b",
        "outputId": "513b802c-dda5-45d5-cd02-dc7273cc7284"
      },
      "outputs": [
        {
          "name": "stdout",
          "output_type": "stream",
          "text": [
            "(42, 1) (14, 1)\n"
          ]
        }
      ],
      "source": [
        "train_input = train_input.reshape(-1, 1)      # (== train_input = train_input.reshape(42, 1))\n",
        "test_input  = test_input.reshape(-1, 1)       # (== test_input  = test_input.reshape(14, 1))\n",
        "print(train_input.shape, test_input.shape)"
      ]
    },
    {
      "cell_type": "markdown",
      "metadata": {
        "id": "KidqhfYOg_iU"
      },
      "source": [
        "---\n",
        "### 【 4. 결정계수(R²) 】  \n",
        "---"
      ]
    },
    {
      "cell_type": "code",
      "execution_count": 10,
      "metadata": {
        "colab": {
          "base_uri": "https://localhost:8080/"
        },
        "id": "6NqXbeBRhKrr",
        "outputId": "4821cc83-6532-40c9-ca5f-1452effc38d2"
      },
      "outputs": [
        {
          "data": {
            "text/plain": [
              "KNeighborsRegressor()"
            ]
          },
          "execution_count": 10,
          "metadata": {},
          "output_type": "execute_result"
        }
      ],
      "source": [
        "from sklearn.neighbors import KNeighborsRegressor\n",
        "knr = KNeighborsRegressor()\n",
        "knr.fit(train_input, train_target)"
      ]
    },
    {
      "cell_type": "code",
      "execution_count": 11,
      "metadata": {
        "colab": {
          "base_uri": "https://localhost:8080/"
        },
        "id": "bFSjwqbAhYrI",
        "outputId": "c84eb791-8cae-4216-c30e-3dbebe90ce68"
      },
      "outputs": [
        {
          "name": "stdout",
          "output_type": "stream",
          "text": [
            "0.992809406101064\n"
          ]
        }
      ],
      "source": [
        "print(knr.score(test_input, test_target))"
      ]
    },
    {
      "cell_type": "code",
      "execution_count": 12,
      "metadata": {
        "id": "W5n-FySuhjTX"
      },
      "outputs": [],
      "source": [
        "  from sklearn.metrics import mean_absolute_error"
      ]
    },
    {
      "cell_type": "code",
      "execution_count": 16,
      "metadata": {
        "id": "1-8SLMB_kCj-"
      },
      "outputs": [],
      "source": [
        "# 테스트 세트에 대한 예측 생성\n",
        "test_prediction = knr.predict(test_input)"
      ]
    },
    {
      "cell_type": "code",
      "execution_count": 15,
      "metadata": {
        "colab": {
          "base_uri": "https://localhost:8080/"
        },
        "id": "SsPd1DLwkJMP",
        "outputId": "d8395f00-d53e-42e5-e038-2f43fb224ef7"
      },
      "outputs": [
        {
          "name": "stdout",
          "output_type": "stream",
          "text": [
            "19.157142857142862\n"
          ]
        }
      ],
      "source": [
        "# 테스트 세트에 대한 평균 절댓값 오차를 계산\n",
        "mae = mean_absolute_error(test_target, test_prediction)\n",
        "print(mae)"
      ]
    },
    {
      "cell_type": "markdown",
      "metadata": {
        "id": "gimyTCIglNv4"
      },
      "source": [
        "---\n",
        "### 【 5. 과대적합 vs 과소적합 】  \n",
        "---"
      ]
    },
    {
      "cell_type": "code",
      "execution_count": 20,
      "metadata": {
        "colab": {
          "base_uri": "https://localhost:8080/"
        },
        "id": "vNV1r4tdkoLt",
        "outputId": "eccdbf54-79dd-4351-daeb-40c1d1c1e8d9"
      },
      "outputs": [
        {
          "name": "stdout",
          "output_type": "stream",
          "text": [
            "0.9698823289099254\n"
          ]
        }
      ],
      "source": [
        "# 과소적합 발생 \n",
        "print(knr.score(train_input, train_target))"
      ]
    },
    {
      "cell_type": "code",
      "execution_count": 22,
      "metadata": {
        "colab": {
          "base_uri": "https://localhost:8080/"
        },
        "id": "ttqDHlbnlfAN",
        "outputId": "1c3ba214-13a9-4919-efd7-424a6281bbc7"
      },
      "outputs": [
        {
          "name": "stdout",
          "output_type": "stream",
          "text": [
            "0.9804899950518966\n"
          ]
        }
      ],
      "source": [
        "# 과소적합을 해결하기 위해 이웃의 개수를 3으로 설정\n",
        "knr.n_neighbors = 3\n",
        "print(knr.score(train_input, train_target))"
      ]
    },
    {
      "cell_type": "code",
      "execution_count": 24,
      "metadata": {
        "colab": {
          "base_uri": "https://localhost:8080/"
        },
        "id": "vHieJXf-n0S1",
        "outputId": "00198c33-e194-49ab-a3c6-8b69e67e02ce"
      },
      "outputs": [
        {
          "name": "stdout",
          "output_type": "stream",
          "text": [
            "0.9746459963987609\n"
          ]
        }
      ],
      "source": [
        "print(knr.score(test_input, test_target))"
      ]
    },
    {
      "cell_type": "markdown",
      "metadata": {
        "id": "vu7XNskXwTgq"
      },
      "source": [
        "---\n",
        "### 【 #. 연습 문제 】  \n",
        "---"
      ]
    },
    {
      "cell_type": "code",
      "execution_count": 25,
      "metadata": {
        "id": "bwMJILH-wV43"
      },
      "outputs": [],
      "source": [
        "# k-최근접 이웃 회귀 객체 생성\n",
        "knr = KNeighborsRegressor()"
      ]
    },
    {
      "cell_type": "code",
      "execution_count": 26,
      "metadata": {
        "id": "WCyfyIhewgY8"
      },
      "outputs": [],
      "source": [
        "# 5 ~ 45까지 x 좌표 생성\n",
        "x = np.arange(5, 45).reshape(-1, 1)"
      ]
    },
    {
      "cell_type": "code",
      "execution_count": 30,
      "metadata": {
        "id": "IYiKzDERwpEk"
      },
      "outputs": [],
      "source": [
        "# n = 1, 5, 10일 때 예측 결과를 그래프로 그림(1)\n",
        "for n in [1]:\n",
        "    knr.n_neighbors = n \n",
        "    knr.fit(train_input, train_target)\n",
        "    prediction = knr.predict(x)"
      ]
    },
    {
      "cell_type": "code",
      "execution_count": 31,
      "metadata": {
        "colab": {
          "base_uri": "https://localhost:8080/",
          "height": 295
        },
        "id": "TY5Ad5T0yDYl",
        "outputId": "e23d42c8-89f2-42d2-f22a-6882b9531ee0"
      },
      "outputs": [
        {
          "data": {
            "image/png": "[encoded data removed]",
            "text/plain": [
              "<Figure size 432x288 with 1 Axes>"
            ]
          },
          "metadata": {
            "needs_background": "light"
          },
          "output_type": "display_data"
        }
      ],
      "source": [
        "# 훈련 세트 & 예측 결과를 그래프로 그림\n",
        "plt.scatter(train_input, train_target)\n",
        "plt.scatter(x,prediction)\n",
        "plt.title('n_neighbors = {}'.format(n))\n",
        "plt.xlabel('length')\n",
        "plt.ylabel('weight')\n",
        "plt.show()"
      ]
    },
    {
      "cell_type": "code",
      "execution_count": 32,
      "metadata": {
        "id": "GLYastW0zr_f"
      },
      "outputs": [],
      "source": [
        "# n = 1, 5, 10일 때 예측 결과를 그래프로 그림(2)\n",
        "for n in [5]:\n",
        "    knr.n_neighbors = n \n",
        "    knr.fit(train_input, train_target)\n",
        "    prediction = knr.predict(x)"
      ]
    },
    {
      "cell_type": "code",
      "execution_count": 33,
      "metadata": {
        "colab": {
          "base_uri": "https://localhost:8080/",
          "height": 295
        },
        "id": "k09sDlTKz4uT",
        "outputId": "7e441d4a-1ca0-4f82-daa8-2ea5a3c3c460"
      },
      "outputs": [
        {
          "data": {
            "image/png": "[encoded data removed]",
            "text/plain": [
              "<Figure size 432x288 with 1 Axes>"
            ]
          },
          "metadata": {
            "needs_background": "light"
          },
          "output_type": "display_data"
        }
      ],
      "source": [
        "# 훈련 세트 & 예측 결과를 그래프로 그림\n",
        "plt.scatter(train_input, train_target)\n",
        "plt.scatter(x,prediction)\n",
        "plt.title('n_neighbors = {}'.format(n))\n",
        "plt.xlabel('length')\n",
        "plt.ylabel('weight')\n",
        "plt.show()"
      ]
    },
    {
      "cell_type": "code",
      "execution_count": 34,
      "metadata": {
        "id": "kXAcrtWzz5XQ"
      },
      "outputs": [],
      "source": [
        "# n = 1, 5, 10일 때 예측 결과를 그래프로 그림(3)\n",
        "for n in [10]:\n",
        "    knr.n_neighbors = n \n",
        "    knr.fit(train_input, train_target)\n",
        "    prediction = knr.predict(x)"
      ]
    },
    {
      "cell_type": "code",
      "execution_count": 35,
      "metadata": {
        "colab": {
          "base_uri": "https://localhost:8080/",
          "height": 295
        },
        "id": "qoFv2WeEz-Jw",
        "outputId": "0506bf70-d155-4602-e043-e83a41ac99ca"
      },
      "outputs": [
        {
          "data": {
            "image/png": "[encoded data removed]",
            "text/plain": [
              "<Figure size 432x288 with 1 Axes>"
            ]
          },
          "metadata": {
            "needs_background": "light"
          },
          "output_type": "display_data"
        }
      ],
      "source": [
        "# 훈련 세트 & 예측 결과를 그래프로 그림\n",
        "plt.scatter(train_input, train_target)\n",
        "plt.scatter(x,prediction)\n",
        "plt.title('n_neighbors = {}'.format(n))\n",
        "plt.xlabel('length')\n",
        "plt.ylabel('weight')\n",
        "plt.show()"
      ]
    }
  ],
  "metadata": {
    "colab": {
      "collapsed_sections": [],
      "name": "05_Perch Weight Prediction",
      "provenance": []
    },
    "kernelspec": {
      "display_name": "Python 3",
      "name": "python3"
    },
    "language_info": {
      "name": "python"
    }
  },
  "nbformat": 4,
  "nbformat_minor": 0
}
