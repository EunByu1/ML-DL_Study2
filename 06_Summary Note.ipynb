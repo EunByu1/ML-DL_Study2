{
 "cells": [
  {
   "cell_type": "markdown",
   "id": "f6c62e12",
   "metadata": {},
   "source": [
    "---\n",
    "## 1. 지도학습 알고리즘\n",
    "---  \n",
    "* 지도 학습 알고리즘은 크게 분류와 회귀로 나뉨  \n",
    "$\\,$① 분류 : 말 그래도 분류하는 문제임  \n",
    "$\\qquad\\quad\\,$[결과] : 여러 개의 클래스(=종류) 中 한 개의 클래스(=종류)만 출력함  \n",
    "$\\qquad\\qquad\\quad\\;\\;\\,$ → ex) 농어와 빙어 中 농어로 분류함  \n",
    "$\\,$② 회귀 : 임의의 어떤 숫자를 예측하는 문제임  \n",
    "$\\qquad\\quad\\,$[결과] : 임의의 수치를 출력함 "
   ]
  },
  {
   "cell_type": "markdown",
   "id": "1c8e6169",
   "metadata": {},
   "source": [
    "---\n",
    "## 2. kNN 분류 알고리즘 vs kNN 회귀 알고리즘\n",
    "---  \n",
    "* kNN(k-최근접 이웃 알고리즘)은 분류와 회귀 둘 다 사용 가능함  \n",
    "$\\,$[kNN 분류 알고리즘]  \n",
    "$\\quad$ : 1. 예측하려는 샘플에 가장 가까운 샘플 k개를 선택함  \n",
    "$\\quad\\;\\;\\,$2. 이 샘플들의 타깃(=결과)을 통해 클래스(=종류)를 확인함  \n",
    "$\\quad\\;\\;\\,$3. 클래스(=종류)가 다수인 것을 새로운 샘플의 클래스(=종류)로 예측함 \n",
    "<br>  \n",
    "<br>  \n",
    "<br>\n",
    "<br>\n",
    "\n",
    "\n",
    "$\\qquad$[kNN 회귀 알고리즘]  \n",
    "$\\qquad\\quad$ : 1. 예측하려는 샘플에 가장 가까운 샘플 k개를 선택함  \n",
    "$\\qquad\\quad\\;\\;\\,$2. 이 샘플들의 타깃(=결과)을 확인함  \n",
    "$\\qquad\\quad\\quad\\;\\,$ → 이때, 타깃(=결과)는 어떤 클래스(=종류)가 아니라 임의의 수치임  \n",
    "$\\qquad\\quad\\;\\;\\,$3. 타깃(=결과)들의 평균을 구함  \n",
    "$\\qquad\\quad\\;\\;\\,$4. 해당 평균값이 나오면, 그 값이 곧 예측하려는 샘플의 타깃(=결과)임  "
   ]
  },
  {
   "cell_type": "markdown",
   "id": "645386d3",
   "metadata": {},
   "source": [
    "---\n",
    "## 3. 넘파이 함수\n",
    "---  \n",
    "[01. reshape()] # 배열 크기 변경  \n",
    "$\\,$① 사용법 : 배열.reshape(행의 개수, 열의 개수)  \n",
    "$\\quad\\quad\\qquad$ → ex) test_array(2,2)  \n",
    "$\\quad\\quad\\qquad$ ♥ Tip : 행의 개수 × 열의 개수 = 원소의 총 개수  \n",
    "$\\,$② 언제 사용하나요?  \n",
    "$\\quad\\,$ - 넘파이 배열의 크기를 바꿀 때  \n",
    "$\\quad\\,$ - 수동으로 2차원 배열을 만들 때 (★★★)  \n",
    "$\\qquad\\;$ → ex) 변경 전 / 변경 후  \n",
    "$\\qquad\\qquad\\;$ [변경 전] : [1, 2, 3]  \n",
    "$\\qquad\\qquad\\;$ [변경 후] : [[1],  \n",
    "$\\qquad\\qquad\\qquad\\qquad\\,$ [2],  \n",
    "$\\qquad\\qquad\\qquad\\qquad\\,$ [3]]  \n",
    "$\\;$③ 추가 개념 : 배열.reshape(-1, 열의 개수)  \n",
    "$\\quad\\quad\\qquad$ → ex) -1 = 해당 배열의 원소를 빠짐없이 사용해라  \n",
    "$\\quad\\quad\\qquad$ → [참고] 119p에 추가로 적어둠  "
   ]
  },
  {
   "cell_type": "markdown",
   "id": "fc114f16",
   "metadata": {},
   "source": [
    "---\n",
    "## 4. 결정계수(R²)\n",
    "---  \n",
    "[kNN 분류 알고리즘 vs kNN 회귀 알고리즘]  \n",
    "$\\,$① kNN 분류 알고리즘의 평가 방법 : 정확도  \n",
    "$\\quad$ ▶ 정확도 : 테스트 세트에 있는 샘플을 정확하게 분류한 개수의 비율  \n",
    "$\\,$② kNN 회귀 알고리즘의 평가 방법 : 결정계수(R²)  \n",
    "$\\quad$ ▶ [성능 좋음] : 1에 가까움  \n",
    "$\\quad$ ▶ [성능 나쁨] : 0에 가까움  "
   ]
  },
  {
   "cell_type": "markdown",
   "id": "ede42837",
   "metadata": {},
   "source": [
    "---\n",
    "## 5. 사이킷런 함수\n",
    "---  \n",
    "[01. mean_absolute_error()]  \n",
    "* 정확도처럼 결정계수(=R²)가 직감적으로 얼마나 좋은지 이해하기 어려움  \n",
    " → 그래서 나온게 'mean_absolute_error()임  \n",
    "$\\,$① 사용법 : mean_absolute_error(타깃(=결과), 예측)  \n",
    "$\\,$② 원리 : 타깃(=결과)과 예측한 값의 절댓값 오차를 구한 후 이를 평균 냄  \n",
    "$\\qquad\\quad\\,$ → 타깃(=결과)과 예측한 값 사이의 차이를 구해 보면 어느 정도 예측이 벗어났는지 가늠하기 좋음  \n"
   ]
  },
  {
   "cell_type": "markdown",
   "id": "09d14c5a",
   "metadata": {},
   "source": [
    "---\n",
    "## 6. 과대적합 vs 과소적합\n",
    "---  \n",
    "[과대적합]  \n",
    "* 훈련 세트에서는 점수가 굉장히 좋았는데, 테스트 세트에서는 점수가 굉장히 나쁠 때 이를 훈련 세트에 '과대적합' 되었다고 말함  \n",
    " → 즉, 훈련 세트에만 잘 맞는 모델이라 테스트 세트 or 나중에 실전에 투입되었을 때 새로운 샘플에 대해 예측할 때 잘 작동하지 않음  \n",
    " $\\quad$[해결 방법] : 모델을 덜 복잡하게 만들어야 함  \n",
    " $\\qquad\\qquad\\quad\\,$ → kNN일 경우 : k값을 늘림\n",
    "<br>  \n",
    "<br>  \n",
    "<br>\n",
    "<br>\n",
    "\n",
    "[과소적합]  \n",
    "* 훈련 세트보다 테스트 세트의 점수가 높거나, 두 점수가 모두 너무 낮은 경우에 이를 훈련 세트에 '과소적합' 되었다고 말함  \n",
    " → 즉, 모델이 너무 단순하여 훈련 세트에 적절히 훈련되지 않은 경우임   \n",
    "  $\\quad$[해결 방법] : 모델을 더 복잡하게 만들어야 함  \n",
    "   $\\qquad\\qquad\\quad\\,$ → kNN일 경우 : k값을 줄임\n",
    " \n"
   ]
  }
 ],
 "metadata": {
  "kernelspec": {
   "display_name": "Python 3 (ipykernel)",
   "language": "python",
   "name": "python3"
  },
  "language_info": {
   "codemirror_mode": {
    "name": "ipython",
    "version": 3
   },
   "file_extension": ".py",
   "mimetype": "text/x-python",
   "name": "python",
   "nbconvert_exporter": "python",
   "pygments_lexer": "ipython3",
   "version": "3.7.11"
  }
 },
 "nbformat": 4,
 "nbformat_minor": 5
}
