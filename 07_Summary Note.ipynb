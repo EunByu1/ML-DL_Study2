{
 "cells": [
  {
   "cell_type": "markdown",
   "id": "d784b794",
   "metadata": {},
   "source": [
    "---\n",
    "## 1. kNN 회귀 알고리즘의 단점\n",
    "---  \n",
    "* 훈련 세트 범위 밖의 샘플을 예측할 수 없음  \n",
    " → 그래서 이를 해결하기 위해 나온게 선형 회귀임  "
   ]
  },
  {
   "cell_type": "markdown",
   "id": "729f5069",
   "metadata": {},
   "source": [
    "---\n",
    "## 2. 선형 회귀\n",
    "---  \n",
    "① 선형 회귀  \n",
    "$\\quad$ - 특성이 하나인 경우 이 특성을 이용하여 어떤 직선을 학습하는 알고리즘임  \n",
    "$\\quad\\quad$→ 즉, 선형 회귀는 y=ax+b꼴로 이때 x를 특성이라고 생각하면 됨  \n",
    "$\\quad$ - 특성을 이용하여 직선을 학습하였기에, 당연히 이 직선은 해당 특성을 잘 나타낼 수 있는 직선임  \n",
    "<br>  \n",
    "<br>  \n",
    "\n",
    "② LinearRegression  \n",
    "$\\quad$ - 사이킷런 sklearn.linear_model 패키지 아래에 LinearRegression 클래스로 선형 회귀 알고리즘을 구현해 놓음  \n",
    "$\\quad$ - 기울기(a)는 LinearRegression클래스로 만든 객체의 coef_ 속성안에 저장되어 있음  \n",
    "$\\quad\\quad$→ (추가) : 머신러닝에서 기울기를 종종 계수(coefficient) 또는 가중치(weight)라고 부름  \n",
    "$\\quad$ - 절편(b)는 LinearRegression클래스로 만든 객체의 intercept_ 속성안에 저장되어 있음  \n",
    "<br>  \n",
    "<br>  \n",
    "\n",
    "② 모델 파라미터  \n",
    "$\\quad$ : 머신러닝 모델이 찾은 값이라는 의미로 모델 파라미터라고 부름  \n",
    "$\\quad\\;\\;\\,$→ 즉, 모델 파라미터는 값임 (단, 주체가 머신러닝임)   \n",
    "$\\quad\\;\\;\\,$ex) 선형 회귀가 찾은 가중치  \n",
    "$\\quad$ ⓐ 모델 기반 학습 : 최적의 모델 파라미터를 찾는 훈련을 말함  \n",
    "$\\quad$ ⓑ 사례 기반 학습 : 최적의 모델 파라미터를 찾는 훈련이 아닌 그 외의 훈련을 말함\n"
   ]
  },
  {
   "cell_type": "markdown",
   "id": "e66eda94",
   "metadata": {},
   "source": [
    "---\n",
    "## 3. 다항 회귀\n",
    "---  \n",
    "* 다항식을 사용한 선형 회귀를 다항 회귀라고 부름"
   ]
  }
 ],
 "metadata": {
  "kernelspec": {
   "display_name": "Python 3 (ipykernel)",
   "language": "python",
   "name": "python3"
  },
  "language_info": {
   "codemirror_mode": {
    "name": "ipython",
    "version": 3
   },
   "file_extension": ".py",
   "mimetype": "text/x-python",
   "name": "python",
   "nbconvert_exporter": "python",
   "pygments_lexer": "ipython3",
   "version": "3.7.11"
  }
 },
 "nbformat": 4,
 "nbformat_minor": 5
}
